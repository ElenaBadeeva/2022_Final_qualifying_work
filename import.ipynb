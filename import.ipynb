{
 "cells": [
  {
   "cell_type": "code",
   "execution_count": null,
   "id": "883083a1",
   "metadata": {},
   "outputs": [],
   "source": [
    "#библиотеки и методы для ВКР\n",
    "import cv2\n",
    "import matplotlib.pyplot as plt # рисовать графики\n",
    "import numpy as np\n",
    "import pandas as pd\n",
    "import tensorflow as tf # Павел выбрал версию CPU (не подключал видиокарту)\n",
    "import seaborn as sns # графики регрессионных моделей\n",
    "import this\n",
    "import copy\n",
    "import torch # создание нейронных сетей\n",
    "import imageio\n",
    "\n",
    "from sklearn.preprocessing import LabelEncoder\n",
    "from sklearn.preprocessing import MinMaxScaler, StandardScaler\n",
    "from sklearn.neighbors import NearestNeighbors\n",
    "from sklearn.model_selection import train_test_split # делит dataset\n",
    "from sklearn import svm\n",
    "\n",
    "from mlxtend.frequent_patterns import apriori, fpmax, fpgrowth\n",
    "from mlxtend.preprocessing import TransactionEncoder\n",
    "\n",
    "from torch.autograd import Variable\n",
    "from tensorflow import keras # удобно для создания нейронных сетей, использовать в ВКР\n",
    "from tensorflow.keras import layers\n",
    "\n",
    "\n",
    "from IPython.display import IFrame\n",
    "%matplotlib inline  # пишем что графики будем рисовать прям в этой тетрадке, в большинстве случаев работает и без этой команды \n",
    "\n",
    "torch.manual_seed(42); # семя (?) откуда генерируется случайная последовательность\n",
    "\n",
    "print( cv.__version__ )\n",
    "print( pn.__version__ )\n",
    "print(tf.__version__)\n",
    "\n",
    "np.set_printoptions(precision=3, suppress=True) # устанавливаем в numpy точность 3\n"
   ]
  }
 ],
 "metadata": {
  "kernelspec": {
   "display_name": "Python 3 (ipykernel)",
   "language": "python",
   "name": "python3"
  },
  "language_info": {
   "codemirror_mode": {
    "name": "ipython",
    "version": 3
   },
   "file_extension": ".py",
   "mimetype": "text/x-python",
   "name": "python",
   "nbconvert_exporter": "python",
   "pygments_lexer": "ipython3",
   "version": "3.9.7"
  }
 },
 "nbformat": 4,
 "nbformat_minor": 5
}
