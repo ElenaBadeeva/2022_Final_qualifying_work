{
 "cells": [
  {
   "cell_type": "markdown",
   "id": "67ace75b",
   "metadata": {},
   "source": [
    "# Разработка приложения"
   ]
  },
  {
   "cell_type": "markdown",
   "id": "bfdc9557",
   "metadata": {},
   "source": [
    "Разработать приложение с графическим интерфейсом или интерфейсом командной строки, которое будет выдавать прогноз, полученный в задании 4 или 5 (один или два прогноза, на выбор учащегося)."
   ]
  },
  {
   "cell_type": "code",
   "execution_count": 1,
   "id": "21366687",
   "metadata": {},
   "outputs": [],
   "source": [
    "import numpy as np\n",
    "import tensorflow as tf\n",
    "from tensorflow import keras"
   ]
  },
  {
   "cell_type": "code",
   "execution_count": 2,
   "id": "ee44eecd",
   "metadata": {},
   "outputs": [],
   "source": [
    "#load_model = keras.models.load_model(\"C:/Users/badeeva_ee/Desktop/DataScience/VKR/project/model/model_perceptron_for_app\")"
   ]
  },
  {
   "cell_type": "code",
   "execution_count": 3,
   "id": "6103a422",
   "metadata": {},
   "outputs": [],
   "source": [
    "from flask import Flask, request, render_template"
   ]
  },
  {
   "cell_type": "code",
   "execution_count": 4,
   "id": "a83045eb",
   "metadata": {},
   "outputs": [],
   "source": [
    "app = Flask(__name__) # переменная app наше приложение flask"
   ]
  },
  {
   "cell_type": "code",
   "execution_count": 5,
   "id": "23f7ce65",
   "metadata": {},
   "outputs": [],
   "source": [
    "# ОБРАБОТКА\n",
    "\n",
    "# принимает на вход\n",
    "def processing_params(param1, param2, param3, param4, param5, param6, param7, param8, param9, param10, param11, param12):\n",
    "# ДОБАВИТЬ ЛОГИКУ МОДЕЛИ\n",
    "    model = keras.models.load_model(\"C:/Users/badeeva_ee/Desktop/DataScience/VKR/project/model/model_perceptron_for_app\")\n",
    "    pred = model.predict([param1, param2, param3, param4, param5, param6, param7, param8, param9, param10, param11, param12])\n",
    "    \n",
    "    return pred\n"
   ]
  },
  {
   "cell_type": "code",
   "execution_count": 6,
   "id": "0a17ba74",
   "metadata": {},
   "outputs": [],
   "source": [
    "@app.route('/forecast/', methods=['post', 'get']) # прописываем методы\n",
    "def matrix_filler():\n",
    "    message = '' # есть некоторое сообщение, пустое по умолчанию\n",
    "    if request.method == 'POST': # с помощью этого метода обрабытываем запрос\n",
    "        param1 = request.form.get('param1')# форма для запроса\n",
    "        param2 = request.form.get('param2')\n",
    "        param3 = request.form.get('param3')\n",
    "        param4 = request.form.get('param4')\n",
    "        param5 = request.form.get('param5')\n",
    "        param6 = request.form.get('param6')\n",
    "        param7 = request.form.get('param7')\n",
    "        param8 = request.form.get('param8')\n",
    "        param9 = request.form.get('param9')\n",
    "        param10 = request.form.get('param10')\n",
    "        param11 = request.form.get('param11')\n",
    "        param12 = request.form.get('param12')\n",
    "        \n",
    "        param1 = float(param1)\n",
    "        param2 = float(param2)\n",
    "        param3 = float(param3)\n",
    "        param4 = float(param4)\n",
    "        param5 = float(param5)\n",
    "        param6 = float(param6)\n",
    "        param7 = float(param7)\n",
    "        param8 = float(param8)\n",
    "        param9 = float(param9)\n",
    "        param10 = float(param10)\n",
    "        param11 = float(param11)\n",
    "        param12 = float(param12)\n",
    "\n",
    "        message = processing_params(param1, param2, param3, param4, param5, param6, param7, param8, param9, param10, param11, param12)\n",
    "        \n",
    "    return render_template('matrix_filler2.html', message = message) # указываем какой берем шаблон и переменную"
   ]
  },
  {
   "cell_type": "markdown",
   "id": "9c9dd738",
   "metadata": {},
   "source": [
    "Если дописываем логику, то выполнение останавливаем"
   ]
  },
  {
   "cell_type": "code",
   "execution_count": null,
   "id": "36009c02",
   "metadata": {},
   "outputs": [
    {
     "name": "stdout",
     "output_type": "stream",
     "text": [
      " * Serving Flask app '__main__' (lazy loading)\n",
      " * Environment: production\n",
      "\u001b[31m   WARNING: This is a development server. Do not use it in a production deployment.\u001b[0m\n",
      "\u001b[2m   Use a production WSGI server instead.\u001b[0m\n",
      " * Debug mode: off\n"
     ]
    },
    {
     "name": "stderr",
     "output_type": "stream",
     "text": [
      " * Running on http://127.0.0.1:5000 (Press CTRL+C to quit)\n",
      "127.0.0.1 - - [16/Apr/2022 14:27:58] \"GET / HTTP/1.1\" 404 -\n",
      "127.0.0.1 - - [16/Apr/2022 14:28:17] \"GET /forecast/ HTTP/1.1\" 200 -\n"
     ]
    },
    {
     "name": "stdout",
     "output_type": "stream",
     "text": [
      "WARNING:tensorflow:Model was constructed with shape (None, None) for input KerasTensor(type_spec=TensorSpec(shape=(None, None), dtype=tf.float32, name='normalization_2_input'), name='normalization_2_input', description=\"created by layer 'normalization_2_input'\"), but it was called on an input with incompatible shape (None,).\n"
     ]
    },
    {
     "name": "stderr",
     "output_type": "stream",
     "text": [
      "127.0.0.1 - - [16/Apr/2022 14:30:24] \"POST /forecast/ HTTP/1.1\" 200 -\n"
     ]
    }
   ],
   "source": [
    "app.run() # выполнить приложение"
   ]
  },
  {
   "cell_type": "code",
   "execution_count": null,
   "id": "c25e0b00",
   "metadata": {},
   "outputs": [],
   "source": []
  },
  {
   "cell_type": "code",
   "execution_count": null,
   "id": "631b2a71",
   "metadata": {},
   "outputs": [],
   "source": []
  },
  {
   "cell_type": "code",
   "execution_count": null,
   "id": "7d3b70bf",
   "metadata": {},
   "outputs": [],
   "source": []
  },
  {
   "cell_type": "code",
   "execution_count": null,
   "id": "22105d60",
   "metadata": {},
   "outputs": [],
   "source": []
  }
 ],
 "metadata": {
  "kernelspec": {
   "display_name": "Python 3 (ipykernel)",
   "language": "python",
   "name": "python3"
  },
  "language_info": {
   "codemirror_mode": {
    "name": "ipython",
    "version": 3
   },
   "file_extension": ".py",
   "mimetype": "text/x-python",
   "name": "python",
   "nbconvert_exporter": "python",
   "pygments_lexer": "ipython3",
   "version": "3.9.7"
  }
 },
 "nbformat": 4,
 "nbformat_minor": 5
}
